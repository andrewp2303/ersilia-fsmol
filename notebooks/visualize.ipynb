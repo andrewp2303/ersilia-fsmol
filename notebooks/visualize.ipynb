{
 "cells": [
  {
   "cell_type": "markdown",
   "id": "9cc6940d",
   "metadata": {},
   "source": [
    "# Plotting Few-Shot Model Evaluation Results\n",
    "\n",
    "Assembling plots from summary files."
   ]
  },
  {
   "cell_type": "code",
   "execution_count": 22,
   "id": "648ec364",
   "metadata": {},
   "outputs": [],
   "source": [
    "import os\n",
    "import sys\n",
    "import pandas as pd\n",
    "import ydata_profiling as pp\n",
    "\n",
    "# Setting up local details:\n",
    "# This should be the location of the checkout of the FS-Mol repository:\n",
    "FS_MOL_CHECKOUT_PATH = os.path.join(os.environ['HOME'], \"code\", \"ersilia\", \"ersilia-fsmol\")\n",
    "# FS_MOL_DATASET_PATH = os.path.join(os.environ['HOME'], \"code\", \"ersilia\", \"ersilia-fsmol\", \"datasets\", \"fs-mol-data\")\n",
    "FS_MOL_DATASET_PATH = os.path.join(os.environ['HOME'], \"code\", \"ersilia\", \"bioassays\", \"dataset\")\n",
    "\n",
    "os.chdir(FS_MOL_CHECKOUT_PATH)\n",
    "sys.path.insert(0, FS_MOL_CHECKOUT_PATH)\n",
    "\n",
    "from fs_mol.plotting.utils import (\n",
    "    highlight_max_all, \n",
    "    plot_all_assays, \n",
    "    load_data,\n",
    "    expand_values,\n",
    "    plot_task_performances_by_id,\n",
    "    box_plot,\n",
    "    plot_by_size,\n",
    "    get_aggregates_across_sizes\n",
    ")"
   ]
  },
  {
   "cell_type": "markdown",
   "id": "babd98c9",
   "metadata": {},
   "source": [
    "## Making summary files\n",
    "\n",
    "Summary files are obtained by running `fs_mol/plotting/collect_eval_runs.py` on the outputs of evaluation runs. If an evaluation output directory is \"evaluation_output_directory\" then summary files are created with: "
   ]
  },
  {
   "cell_type": "code",
   "execution_count": 7,
   "id": "fe05c7b9",
   "metadata": {},
   "outputs": [
    {
     "name": "stdout",
     "output_type": "stream",
     "text": [
      "No file for 16: + No columns to parse from file\n",
      "No file for 32: + No columns to parse from file\n",
      "No file for 64: + No columns to parse from file\n",
      "No file for 128: + No columns to parse from file\n",
      "No file for 256: + No columns to parse from file\n",
      "Traceback (most recent call last):\n",
      "  File \"/Users/andrew/Code/ersilia/ersilia-fsmol/fs_mol/plotting/collect_eval_runs.py\", line 160, in <module>\n",
      "    run(args)\n",
      "  File \"/Users/andrew/Code/ersilia/ersilia-fsmol/fs_mol/plotting/collect_eval_runs.py\", line 82, in run\n",
      "    results = collate_experiment_results(\n",
      "  File \"/Users/andrew/Code/ersilia/ersilia-fsmol/fs_mol/plotting/utils.py\", line 259, in collate_experiment_results\n",
      "    if col in df_list[0].columns.values:\n",
      "IndexError: list index out of range\n"
     ]
    }
   ],
   "source": [
    "# edit these\n",
    "model_name = \"PN\"\n",
    "evaluation_output_directory = \"/Users/andrew/Code/ersilia/ersilia-fsmol/ersilia_summaries/\"\n",
    "# ! python fs_mol/plotting/collect_eval_runs.py {model_name} {evaluation_output_directory} --plot\n",
    "! python fs_mol/plotting/collect_eval_runs.py {model_name} {evaluation_output_directory}"
   ]
  },
  {
   "cell_type": "markdown",
   "id": "bd81bb9e",
   "metadata": {},
   "source": [
    "The option `--plot` results in a plot across support set sizes for each few-shot testing task. Final summarized results will be found in \"evaluation_output_directory/summary/{model_name}_summary.csv\""
   ]
  },
  {
   "cell_type": "markdown",
   "id": "a9e4c16c",
   "metadata": {},
   "source": [
    "## Loading the collated evaluation data\n",
    "\n",
    "Create a dictionary of all model summary .csvs to be compared. The csvs are the final summaries from `collect_eval_runs.py`"
   ]
  },
  {
   "cell_type": "code",
   "execution_count": 23,
   "id": "b5d28293",
   "metadata": {},
   "outputs": [],
   "source": [
    "# Configure this to contain all the models that you want to look at.\n",
    "# Dict keys are human readable names, values are the path to the summary produced by collect_eval_runs.py\n",
    "# results_path = os.path.join(FS_MOL_CHECKOUT_PATH, \"/ersilia_summaries/\")\n",
    "results_path = \"/Users/andrew/Code/ersilia/ersilia-fsmol/ersilia_summaries/\"\n",
    "\n",
    "# a dictionary summarising all models to be compared. Add new paths here as desired.\n",
    "model_summaries = {\n",
    "    \"PN\": os.path.join(results_path, \"PN_summary.csv\"),\n",
    "    # \"GNN-MAML\": os.path.join(results_path, \"MAML-Support16_summary.csv\"),\n",
    "    \"GNN-MT\": os.path.join(results_path, \"MT_summary.csv\"),\n",
    "    \"RF\": os.path.join(results_path, \"RF_summary.csv\"),\n",
    "    # \"MAT\": os.path.join(results_path, \"MAT_summary.csv\"),\n",
    "    # \"GNN-ST\": os.path.join(results_path, \"GNN-ST_summary.csv\"),\n",
    "#     \"kNN\": os.path.join(results_path, \"kNN_summary.csv\"),\n",
    "}\n",
    "# Generated plots will be stored here, if you want to keep them. None disables saving.\n",
    "plot_output_dir = os.path.join(results_path, \"plots\")\n",
    "all_tasks_output_dir = os.path.join(results_path, \"plots/all_tasks\")\n",
    "os.makedirs(plot_output_dir, exist_ok=True)\n",
    "os.makedirs(all_tasks_output_dir, exist_ok=True)"
   ]
  },
  {
   "cell_type": "code",
   "execution_count": 24,
   "id": "83e524e1",
   "metadata": {},
   "outputs": [
    {
     "name": "stdout",
     "output_type": "stream",
     "text": [
      "Loading data for PN from /Users/andrew/Code/ersilia/ersilia-fsmol/ersilia_summaries/PN_summary.csv.\n",
      "Loading data for GNN-MT from /Users/andrew/Code/ersilia/ersilia-fsmol/ersilia_summaries/MT_summary.csv.\n",
      "Loading data for RF from /Users/andrew/Code/ersilia/ersilia-fsmol/ersilia_summaries/RF_summary.csv.\n"
     ]
    }
   ],
   "source": [
    "data = load_data(model_summaries)"
   ]
  },
  {
   "cell_type": "markdown",
   "id": "0afabd3f",
   "metadata": {},
   "source": [
    "## Highlight the best result for each task"
   ]
  },
  {
   "cell_type": "code",
   "execution_count": null,
   "id": "26982b2f",
   "metadata": {
    "scrolled": true
   },
   "outputs": [],
   "source": [
    "# no need to do this\n",
    "\n",
    "styled_df = data.style.apply(lambda row: highlight_max_all(row), axis=1)\n",
    "# To save for exporting purposes, uncomment this (requires `pip install xlsxwriter`)\n",
    "styled_df.to_excel(os.path.join(plot_output_dir, f\"highlighted_comparison.xlsx\"), engine='xlsxwriter')\n",
    "\n",
    "styled_df"
   ]
  },
  {
   "cell_type": "code",
   "execution_count": 25,
   "id": "36a47a14",
   "metadata": {},
   "outputs": [],
   "source": [
    "# expand out from val +/- error format, and calculate delta AUPRC\n",
    "data = expand_values(data, model_summaries)"
   ]
  },
  {
   "cell_type": "markdown",
   "id": "7b393af9",
   "metadata": {},
   "source": [
    "## Performance Overview over all Tasks\n",
    "\n",
    "This compares with the trivial baseline of using a weighted coinflip according to the class imbalance in the training data."
   ]
  },
  {
   "cell_type": "code",
   "execution_count": 6,
   "id": "e8b700db",
   "metadata": {},
   "outputs": [
    {
     "name": "stderr",
     "output_type": "stream",
     "text": [
      "/Users/andrew/code/ersilia/ersilia-fsmol/fs_mol/plotting/utils.py:675: UserWarning: set_ticklabels() should only be used with a fixed number of ticks, i.e. after set_ticks() or using a FixedLocator.\n",
      "  assay_id_to_improv_ax.set_xticklabels(merged_df[\"TASK_ID\"][0:-1:4], Rotation=90)\n"
     ]
    },
    {
     "ename": "AttributeError",
     "evalue": "Text.set() got an unexpected keyword argument 'Rotation'",
     "output_type": "error",
     "traceback": [
      "\u001b[0;31m---------------------------------------------------------------------------\u001b[0m",
      "\u001b[0;31mAttributeError\u001b[0m                            Traceback (most recent call last)",
      "Cell \u001b[0;32mIn[6], line 5\u001b[0m\n\u001b[1;32m      1\u001b[0m \u001b[38;5;66;03m# This uses Latex to render plots, and requires the type1ec and type1cm packages.\u001b[39;00m\n\u001b[1;32m      2\u001b[0m \u001b[38;5;66;03m# It also required the dvipng utility.\u001b[39;00m\n\u001b[1;32m      3\u001b[0m \u001b[38;5;66;03m# On Debian/Ubuntu-based systems, this can be installed using `apt install cm-super texlive-latex-extra dvipng`\u001b[39;00m\n\u001b[0;32m----> 5\u001b[0m \u001b[43mplot_task_performances_by_id\u001b[49m\u001b[43m(\u001b[49m\u001b[43mdata\u001b[49m\u001b[43m,\u001b[49m\u001b[43m \u001b[49m\u001b[43mmodel_summaries\u001b[49m\u001b[43m,\u001b[49m\u001b[43m \u001b[49m\u001b[43msupport_set_size\u001b[49m\u001b[43m \u001b[49m\u001b[38;5;241;43m=\u001b[39;49m\u001b[43m \u001b[49m\u001b[38;5;241;43m16\u001b[39;49m\u001b[43m)\u001b[49m\n",
      "File \u001b[0;32m~/code/ersilia/ersilia-fsmol/fs_mol/plotting/utils.py:675\u001b[0m, in \u001b[0;36mplot_task_performances_by_id\u001b[0;34m(merged_df, model_summaries, support_set_size, plot_output_dir, highlight_class)\u001b[0m\n\u001b[1;32m    670\u001b[0m assay_id_to_improv_ax\u001b[38;5;241m.\u001b[39mlegend()\n\u001b[1;32m    671\u001b[0m assay_id_to_improv_ax\u001b[38;5;241m.\u001b[39mset_title(\n\u001b[1;32m    672\u001b[0m     \u001b[38;5;124mf\u001b[39m\u001b[38;5;124m\"\u001b[39m\u001b[38;5;124mAUPRC improvement over random classification: $|T_s|$ = \u001b[39m\u001b[38;5;132;01m{\u001b[39;00msupport_set_size\u001b[38;5;132;01m}\u001b[39;00m\u001b[38;5;124m\"\u001b[39m\n\u001b[1;32m    673\u001b[0m )\n\u001b[0;32m--> 675\u001b[0m \u001b[43massay_id_to_improv_ax\u001b[49m\u001b[38;5;241;43m.\u001b[39;49m\u001b[43mset_xticklabels\u001b[49m\u001b[43m(\u001b[49m\u001b[43mmerged_df\u001b[49m\u001b[43m[\u001b[49m\u001b[38;5;124;43m\"\u001b[39;49m\u001b[38;5;124;43mTASK_ID\u001b[39;49m\u001b[38;5;124;43m\"\u001b[39;49m\u001b[43m]\u001b[49m\u001b[43m[\u001b[49m\u001b[38;5;241;43m0\u001b[39;49m\u001b[43m:\u001b[49m\u001b[38;5;241;43m-\u001b[39;49m\u001b[38;5;241;43m1\u001b[39;49m\u001b[43m:\u001b[49m\u001b[38;5;241;43m4\u001b[39;49m\u001b[43m]\u001b[49m\u001b[43m,\u001b[49m\u001b[43m \u001b[49m\u001b[43mRotation\u001b[49m\u001b[38;5;241;43m=\u001b[39;49m\u001b[38;5;241;43m90\u001b[39;49m\u001b[43m)\u001b[49m\n\u001b[1;32m    677\u001b[0m assay_id_to_improv_ax\u001b[38;5;241m.\u001b[39mset_xticks(merged_df[\u001b[38;5;124m\"\u001b[39m\u001b[38;5;124mTASK_ID\u001b[39m\u001b[38;5;124m\"\u001b[39m][\u001b[38;5;241m0\u001b[39m:\u001b[38;5;241m-\u001b[39m\u001b[38;5;241m1\u001b[39m:\u001b[38;5;241m4\u001b[39m])\n\u001b[1;32m    679\u001b[0m plt\u001b[38;5;241m.\u001b[39mshow(fig)\n",
      "File \u001b[0;32m~/miniconda3/lib/python3.9/site-packages/matplotlib/axes/_base.py:73\u001b[0m, in \u001b[0;36m_axis_method_wrapper.__set_name__.<locals>.wrapper\u001b[0;34m(self, *args, **kwargs)\u001b[0m\n\u001b[1;32m     72\u001b[0m \u001b[38;5;28;01mdef\u001b[39;00m \u001b[38;5;21mwrapper\u001b[39m(\u001b[38;5;28mself\u001b[39m, \u001b[38;5;241m*\u001b[39margs, \u001b[38;5;241m*\u001b[39m\u001b[38;5;241m*\u001b[39mkwargs):\n\u001b[0;32m---> 73\u001b[0m     \u001b[38;5;28;01mreturn\u001b[39;00m \u001b[43mget_method\u001b[49m\u001b[43m(\u001b[49m\u001b[38;5;28;43mself\u001b[39;49m\u001b[43m)\u001b[49m\u001b[43m(\u001b[49m\u001b[38;5;241;43m*\u001b[39;49m\u001b[43margs\u001b[49m\u001b[43m,\u001b[49m\u001b[43m \u001b[49m\u001b[38;5;241;43m*\u001b[39;49m\u001b[38;5;241;43m*\u001b[39;49m\u001b[43mkwargs\u001b[49m\u001b[43m)\u001b[49m\n",
      "File \u001b[0;32m~/miniconda3/lib/python3.9/site-packages/matplotlib/_api/deprecation.py:297\u001b[0m, in \u001b[0;36mrename_parameter.<locals>.wrapper\u001b[0;34m(*args, **kwargs)\u001b[0m\n\u001b[1;32m    292\u001b[0m     warn_deprecated(\n\u001b[1;32m    293\u001b[0m         since, message\u001b[38;5;241m=\u001b[39m\u001b[38;5;124mf\u001b[39m\u001b[38;5;124m\"\u001b[39m\u001b[38;5;124mThe \u001b[39m\u001b[38;5;132;01m{\u001b[39;00mold\u001b[38;5;132;01m!r}\u001b[39;00m\u001b[38;5;124m parameter of \u001b[39m\u001b[38;5;132;01m{\u001b[39;00mfunc\u001b[38;5;241m.\u001b[39m\u001b[38;5;18m__name__\u001b[39m\u001b[38;5;132;01m}\u001b[39;00m\u001b[38;5;124m() \u001b[39m\u001b[38;5;124m\"\u001b[39m\n\u001b[1;32m    294\u001b[0m         \u001b[38;5;124mf\u001b[39m\u001b[38;5;124m\"\u001b[39m\u001b[38;5;124mhas been renamed \u001b[39m\u001b[38;5;132;01m{\u001b[39;00mnew\u001b[38;5;132;01m!r}\u001b[39;00m\u001b[38;5;124m since Matplotlib \u001b[39m\u001b[38;5;132;01m{\u001b[39;00msince\u001b[38;5;132;01m}\u001b[39;00m\u001b[38;5;124m; support \u001b[39m\u001b[38;5;124m\"\u001b[39m\n\u001b[1;32m    295\u001b[0m         \u001b[38;5;124mf\u001b[39m\u001b[38;5;124m\"\u001b[39m\u001b[38;5;124mfor the old name will be dropped %(removal)s.\u001b[39m\u001b[38;5;124m\"\u001b[39m)\n\u001b[1;32m    296\u001b[0m     kwargs[new] \u001b[38;5;241m=\u001b[39m kwargs\u001b[38;5;241m.\u001b[39mpop(old)\n\u001b[0;32m--> 297\u001b[0m \u001b[38;5;28;01mreturn\u001b[39;00m \u001b[43mfunc\u001b[49m\u001b[43m(\u001b[49m\u001b[38;5;241;43m*\u001b[39;49m\u001b[43margs\u001b[49m\u001b[43m,\u001b[49m\u001b[43m \u001b[49m\u001b[38;5;241;43m*\u001b[39;49m\u001b[38;5;241;43m*\u001b[39;49m\u001b[43mkwargs\u001b[49m\u001b[43m)\u001b[49m\n",
      "File \u001b[0;32m~/miniconda3/lib/python3.9/site-packages/matplotlib/axis.py:2060\u001b[0m, in \u001b[0;36mAxis.set_ticklabels\u001b[0;34m(self, labels, minor, fontdict, **kwargs)\u001b[0m\n\u001b[1;32m   2058\u001b[0m \u001b[38;5;66;03m# deal with label1\u001b[39;00m\n\u001b[1;32m   2059\u001b[0m tick\u001b[38;5;241m.\u001b[39mlabel1\u001b[38;5;241m.\u001b[39mset_text(tick_label)\n\u001b[0;32m-> 2060\u001b[0m \u001b[43mtick\u001b[49m\u001b[38;5;241;43m.\u001b[39;49m\u001b[43mlabel1\u001b[49m\u001b[38;5;241;43m.\u001b[39;49m\u001b[43m_internal_update\u001b[49m\u001b[43m(\u001b[49m\u001b[43mkwargs\u001b[49m\u001b[43m)\u001b[49m\n\u001b[1;32m   2061\u001b[0m \u001b[38;5;66;03m# deal with label2\u001b[39;00m\n\u001b[1;32m   2062\u001b[0m tick\u001b[38;5;241m.\u001b[39mlabel2\u001b[38;5;241m.\u001b[39mset_text(tick_label)\n",
      "File \u001b[0;32m~/miniconda3/lib/python3.9/site-packages/matplotlib/artist.py:1219\u001b[0m, in \u001b[0;36mArtist._internal_update\u001b[0;34m(self, kwargs)\u001b[0m\n\u001b[1;32m   1212\u001b[0m \u001b[38;5;28;01mdef\u001b[39;00m \u001b[38;5;21m_internal_update\u001b[39m(\u001b[38;5;28mself\u001b[39m, kwargs):\n\u001b[1;32m   1213\u001b[0m \u001b[38;5;250m    \u001b[39m\u001b[38;5;124;03m\"\"\"\u001b[39;00m\n\u001b[1;32m   1214\u001b[0m \u001b[38;5;124;03m    Update artist properties without prenormalizing them, but generating\u001b[39;00m\n\u001b[1;32m   1215\u001b[0m \u001b[38;5;124;03m    errors as if calling `set`.\u001b[39;00m\n\u001b[1;32m   1216\u001b[0m \n\u001b[1;32m   1217\u001b[0m \u001b[38;5;124;03m    The lack of prenormalization is to maintain backcompatibility.\u001b[39;00m\n\u001b[1;32m   1218\u001b[0m \u001b[38;5;124;03m    \"\"\"\u001b[39;00m\n\u001b[0;32m-> 1219\u001b[0m     \u001b[38;5;28;01mreturn\u001b[39;00m \u001b[38;5;28;43mself\u001b[39;49m\u001b[38;5;241;43m.\u001b[39;49m\u001b[43m_update_props\u001b[49m\u001b[43m(\u001b[49m\n\u001b[1;32m   1220\u001b[0m \u001b[43m        \u001b[49m\u001b[43mkwargs\u001b[49m\u001b[43m,\u001b[49m\u001b[43m \u001b[49m\u001b[38;5;124;43m\"\u001b[39;49m\u001b[38;5;132;43;01m{cls.__name__}\u001b[39;49;00m\u001b[38;5;124;43m.set() got an unexpected keyword argument \u001b[39;49m\u001b[38;5;124;43m\"\u001b[39;49m\n\u001b[1;32m   1221\u001b[0m \u001b[43m        \u001b[49m\u001b[38;5;124;43m\"\u001b[39;49m\u001b[38;5;132;43;01m{prop_name!r}\u001b[39;49;00m\u001b[38;5;124;43m\"\u001b[39;49m\u001b[43m)\u001b[49m\n",
      "File \u001b[0;32m~/miniconda3/lib/python3.9/site-packages/matplotlib/artist.py:1193\u001b[0m, in \u001b[0;36mArtist._update_props\u001b[0;34m(self, props, errfmt)\u001b[0m\n\u001b[1;32m   1191\u001b[0m             func \u001b[38;5;241m=\u001b[39m \u001b[38;5;28mgetattr\u001b[39m(\u001b[38;5;28mself\u001b[39m, \u001b[38;5;124mf\u001b[39m\u001b[38;5;124m\"\u001b[39m\u001b[38;5;124mset_\u001b[39m\u001b[38;5;132;01m{\u001b[39;00mk\u001b[38;5;132;01m}\u001b[39;00m\u001b[38;5;124m\"\u001b[39m, \u001b[38;5;28;01mNone\u001b[39;00m)\n\u001b[1;32m   1192\u001b[0m             \u001b[38;5;28;01mif\u001b[39;00m \u001b[38;5;129;01mnot\u001b[39;00m \u001b[38;5;28mcallable\u001b[39m(func):\n\u001b[0;32m-> 1193\u001b[0m                 \u001b[38;5;28;01mraise\u001b[39;00m \u001b[38;5;167;01mAttributeError\u001b[39;00m(\n\u001b[1;32m   1194\u001b[0m                     errfmt\u001b[38;5;241m.\u001b[39mformat(\u001b[38;5;28mcls\u001b[39m\u001b[38;5;241m=\u001b[39m\u001b[38;5;28mtype\u001b[39m(\u001b[38;5;28mself\u001b[39m), prop_name\u001b[38;5;241m=\u001b[39mk))\n\u001b[1;32m   1195\u001b[0m             ret\u001b[38;5;241m.\u001b[39mappend(func(v))\n\u001b[1;32m   1196\u001b[0m \u001b[38;5;28;01mif\u001b[39;00m ret:\n",
      "\u001b[0;31mAttributeError\u001b[0m: Text.set() got an unexpected keyword argument 'Rotation'"
     ]
    },
    {
     "data": {
      "image/png": "[encoded data removed]",
      "text/plain": [
       "<Figure size 1600x600 with 2 Axes>"
      ]
     },
     "metadata": {},
     "output_type": "display_data"
    }
   ],
   "source": [
    "# This uses Latex to render plots, and requires the type1ec and type1cm packages.\n",
    "# It also required the dvipng utility.\n",
    "# On Debian/Ubuntu-based systems, this can be installed using `apt install cm-super texlive-latex-extra dvipng`\n",
    "\n",
    "plot_task_performances_by_id(data, model_summaries, support_set_size = 16)"
   ]
  },
  {
   "cell_type": "markdown",
   "id": "728ec0b2",
   "metadata": {},
   "source": [
    "### Incorporate protein information\n",
    "\n",
    "Our test tasks have associated target protein information available. We can merge this data to allow plotting with specific EC number classes highlighted."
   ]
  },
  {
   "cell_type": "code",
   "execution_count": 5,
   "id": "01076514",
   "metadata": {},
   "outputs": [],
   "source": [
    "protein_path = os.path.join(FS_MOL_CHECKOUT_PATH, \"datasets/targets\", \"test_proteins.csv\")\n",
    "ecs = pd.read_csv(protein_path)\n",
    "ecs[\"target_id\"] = ecs[\"target_id\"].astype(int).astype(str)\n",
    "ecs[\"chembl_id\"] = ecs[\"chembl_id\"].astype(str)\n",
    "ecs[\"TASK_ID\"] = ecs.apply(lambda row: row[\"chembl_id\"][6:], axis = 1)\n",
    "\n",
    "data = ecs.merge(data, on=\"TASK_ID\")"
   ]
  },
  {
   "cell_type": "code",
   "execution_count": null,
   "id": "c70c1552",
   "metadata": {},
   "outputs": [],
   "source": [
    "# the highlight class is the EC class that will be highlighted in the resulting plot. \n",
    "# You may wish to use this for comparison across different EC classes.\n",
    "# plot_task_performances_by_id(data, model_summaries, support_set_size = 16, highlight_class = 2)"
   ]
  },
  {
   "cell_type": "markdown",
   "id": "0d151c11",
   "metadata": {},
   "source": [
    "## Plot for each task, comparing different models\n",
    "\n",
    "This makes an individual comparison plot over models for each few-shot testing task, across all support set sizes available. \n",
    "\n",
    "**Warning** Not to use lightly, it will take a few minutes to complete"
   ]
  },
  {
   "cell_type": "code",
   "execution_count": null,
   "id": "38864967",
   "metadata": {},
   "outputs": [],
   "source": [
    "# plot_all_assays(data, model_summaries.keys(), results_dir = all_tasks_output_dir)"
   ]
  },
  {
   "cell_type": "markdown",
   "id": "b0319bf2",
   "metadata": {},
   "source": [
    "# Summarise the overall performance in box plots\n",
    "\n",
    "This reproduces the model comparison box plots in the manuscript."
   ]
  },
  {
   "cell_type": "code",
   "execution_count": 26,
   "id": "a93343fb",
   "metadata": {},
   "outputs": [
    {
     "data": {
      "image/png": "[encoded data removed]",
      "text/plain": [
       "<Figure size 1000x1000 with 1 Axes>"
      ]
     },
     "metadata": {},
     "output_type": "display_data"
    }
   ],
   "source": [
    "box_plot(data, model_summaries, support_set_size = 16, plot_output_dir=plot_output_dir)"
   ]
  },
  {
   "cell_type": "markdown",
   "id": "46adcfcc",
   "metadata": {},
   "source": [
    "## Aggregate as a function of the number of training points, across all categories\n",
    "\n",
    "Here the results are aggregated according to EC class, and across all classes. This is used to plot the variation of performance with support set size, comparing all models in the model_summaries dictionary. "
   ]
  },
  {
   "cell_type": "code",
   "execution_count": 9,
   "id": "bc41791d",
   "metadata": {},
   "outputs": [
    {
     "ename": "AttributeError",
     "evalue": "'DataFrame' object has no attribute 'EC_super_class'",
     "output_type": "error",
     "traceback": [
      "\u001b[0;31m---------------------------------------------------------------------------\u001b[0m",
      "\u001b[0;31mAttributeError\u001b[0m                            Traceback (most recent call last)",
      "\u001b[0;32m/var/folders/mt/cbx9r86x5ns_z8zr7ch4701r0000gn/T/ipykernel_60641/2905487189.py\u001b[0m in \u001b[0;36m?\u001b[0;34m()\u001b[0m\n\u001b[0;32m----> 1\u001b[0;31m \u001b[0maggregate_df\u001b[0m \u001b[0;34m=\u001b[0m \u001b[0mget_aggregates_across_sizes\u001b[0m\u001b[0;34m(\u001b[0m\u001b[0mdata\u001b[0m\u001b[0;34m,\u001b[0m \u001b[0mmodel_summaries\u001b[0m\u001b[0;34m)\u001b[0m\u001b[0;34m\u001b[0m\u001b[0;34m\u001b[0m\u001b[0m\n\u001b[0m",
      "\u001b[0;32m~/code/ersilia/ersilia-fsmol/fs_mol/plotting/utils.py\u001b[0m in \u001b[0;36m?\u001b[0;34m(df, model_summaries)\u001b[0m\n\u001b[1;32m    934\u001b[0m \u001b[0;34m\u001b[0m\u001b[0m\n\u001b[1;32m    935\u001b[0m     \u001b[0;32mfor\u001b[0m \u001b[0mtrain_size\u001b[0m \u001b[0;32min\u001b[0m \u001b[0mTRAIN_SIZES_TO_COMPARE\u001b[0m\u001b[0;34m:\u001b[0m\u001b[0;34m\u001b[0m\u001b[0;34m\u001b[0m\u001b[0m\n\u001b[1;32m    936\u001b[0m \u001b[0;34m\u001b[0m\u001b[0m\n\u001b[1;32m    937\u001b[0m         aggregation = aggregate_by_class(\n\u001b[0;32m--> 938\u001b[0;31m             \u001b[0mdf\u001b[0m\u001b[0;34m,\u001b[0m \u001b[0mmodel_summaries\u001b[0m\u001b[0;34m,\u001b[0m \u001b[0mclasses\u001b[0m\u001b[0;34m=\u001b[0m\u001b[0mlist\u001b[0m\u001b[0;34m(\u001b[0m\u001b[0mdf\u001b[0m\u001b[0;34m.\u001b[0m\u001b[0mEC_super_class\u001b[0m\u001b[0;34m.\u001b[0m\u001b[0munique\u001b[0m\u001b[0;34m(\u001b[0m\u001b[0;34m)\u001b[0m\u001b[0;34m)\u001b[0m\u001b[0;34m,\u001b[0m \u001b[0mnum_samples\u001b[0m\u001b[0;34m=\u001b[0m\u001b[0mtrain_size\u001b[0m\u001b[0;34m\u001b[0m\u001b[0;34m\u001b[0m\u001b[0m\n\u001b[0m\u001b[1;32m    939\u001b[0m         )\n\u001b[1;32m    940\u001b[0m \u001b[0;34m\u001b[0m\u001b[0m\n\u001b[1;32m    941\u001b[0m         \u001b[0;32mif\u001b[0m \u001b[0mfull_df\u001b[0m \u001b[0;32mis\u001b[0m \u001b[0;32mNone\u001b[0m\u001b[0;34m:\u001b[0m\u001b[0;34m\u001b[0m\u001b[0;34m\u001b[0m\u001b[0m\n",
      "\u001b[0;32m~/miniconda3/lib/python3.9/site-packages/pandas/core/generic.py\u001b[0m in \u001b[0;36m?\u001b[0;34m(self, name)\u001b[0m\n\u001b[1;32m   5985\u001b[0m             \u001b[0;32mand\u001b[0m \u001b[0mname\u001b[0m \u001b[0;32mnot\u001b[0m \u001b[0;32min\u001b[0m \u001b[0mself\u001b[0m\u001b[0;34m.\u001b[0m\u001b[0m_accessors\u001b[0m\u001b[0;34m\u001b[0m\u001b[0;34m\u001b[0m\u001b[0m\n\u001b[1;32m   5986\u001b[0m             \u001b[0;32mand\u001b[0m \u001b[0mself\u001b[0m\u001b[0;34m.\u001b[0m\u001b[0m_info_axis\u001b[0m\u001b[0;34m.\u001b[0m\u001b[0m_can_hold_identifiers_and_holds_name\u001b[0m\u001b[0;34m(\u001b[0m\u001b[0mname\u001b[0m\u001b[0;34m)\u001b[0m\u001b[0;34m\u001b[0m\u001b[0;34m\u001b[0m\u001b[0m\n\u001b[1;32m   5987\u001b[0m         ):\n\u001b[1;32m   5988\u001b[0m             \u001b[0;32mreturn\u001b[0m \u001b[0mself\u001b[0m\u001b[0;34m[\u001b[0m\u001b[0mname\u001b[0m\u001b[0;34m]\u001b[0m\u001b[0;34m\u001b[0m\u001b[0;34m\u001b[0m\u001b[0m\n\u001b[0;32m-> 5989\u001b[0;31m         \u001b[0;32mreturn\u001b[0m \u001b[0mobject\u001b[0m\u001b[0;34m.\u001b[0m\u001b[0m__getattribute__\u001b[0m\u001b[0;34m(\u001b[0m\u001b[0mself\u001b[0m\u001b[0;34m,\u001b[0m \u001b[0mname\u001b[0m\u001b[0;34m)\u001b[0m\u001b[0;34m\u001b[0m\u001b[0;34m\u001b[0m\u001b[0m\n\u001b[0m",
      "\u001b[0;31mAttributeError\u001b[0m: 'DataFrame' object has no attribute 'EC_super_class'"
     ]
    }
   ],
   "source": [
    "aggregate_df = get_aggregates_across_sizes(data, model_summaries)"
   ]
  },
  {
   "cell_type": "code",
   "execution_count": 8,
   "id": "415188aa",
   "metadata": {},
   "outputs": [
    {
     "data": {
      "text/html": [
       "<div>\n",
       "<style scoped>\n",
       "    .dataframe tbody tr th:only-of-type {\n",
       "        vertical-align: middle;\n",
       "    }\n",
       "\n",
       "    .dataframe tbody tr th {\n",
       "        vertical-align: top;\n",
       "    }\n",
       "\n",
       "    .dataframe thead th {\n",
       "        text-align: right;\n",
       "    }\n",
       "</style>\n",
       "<table border=\"1\" class=\"dataframe\">\n",
       "  <thead>\n",
       "    <tr style=\"text-align: right;\">\n",
       "      <th></th>\n",
       "      <th>16_train (PN)</th>\n",
       "      <th>16_train (GNN-MAML)</th>\n",
       "      <th>16_train (GNN-MT)</th>\n",
       "      <th>16_train (RF)</th>\n",
       "      <th>16_train (MAT)</th>\n",
       "      <th>16_train (GNN-ST)</th>\n",
       "      <th>16_train (PN) std</th>\n",
       "      <th>16_train (GNN-MAML) std</th>\n",
       "      <th>16_train (GNN-MT) std</th>\n",
       "      <th>16_train (RF) std</th>\n",
       "      <th>16_train (MAT) std</th>\n",
       "      <th>16_train (GNN-ST) std</th>\n",
       "    </tr>\n",
       "    <tr>\n",
       "      <th>EC_category</th>\n",
       "      <th></th>\n",
       "      <th></th>\n",
       "      <th></th>\n",
       "      <th></th>\n",
       "      <th></th>\n",
       "      <th></th>\n",
       "      <th></th>\n",
       "      <th></th>\n",
       "      <th></th>\n",
       "      <th></th>\n",
       "      <th></th>\n",
       "      <th></th>\n",
       "    </tr>\n",
       "  </thead>\n",
       "  <tbody>\n",
       "    <tr>\n",
       "      <th>3</th>\n",
       "      <td>0.196353</td>\n",
       "      <td>0.106003</td>\n",
       "      <td>0.128753</td>\n",
       "      <td>0.157903</td>\n",
       "      <td>0.095203</td>\n",
       "      <td>0.061853</td>\n",
       "      <td>0.030614</td>\n",
       "      <td>0.023623</td>\n",
       "      <td>0.024603</td>\n",
       "      <td>0.027580</td>\n",
       "      <td>0.019478</td>\n",
       "      <td>0.018902</td>\n",
       "    </tr>\n",
       "    <tr>\n",
       "      <th>2</th>\n",
       "      <td>0.216894</td>\n",
       "      <td>0.177998</td>\n",
       "      <td>0.113422</td>\n",
       "      <td>0.081974</td>\n",
       "      <td>0.043446</td>\n",
       "      <td>0.012974</td>\n",
       "      <td>0.009112</td>\n",
       "      <td>0.009208</td>\n",
       "      <td>0.005990</td>\n",
       "      <td>0.006649</td>\n",
       "      <td>0.004940</td>\n",
       "      <td>0.004270</td>\n",
       "    </tr>\n",
       "    <tr>\n",
       "      <th>1</th>\n",
       "      <td>0.086344</td>\n",
       "      <td>0.045629</td>\n",
       "      <td>0.045487</td>\n",
       "      <td>0.081344</td>\n",
       "      <td>0.062487</td>\n",
       "      <td>0.012915</td>\n",
       "      <td>0.029424</td>\n",
       "      <td>0.023162</td>\n",
       "      <td>0.012850</td>\n",
       "      <td>0.031665</td>\n",
       "      <td>0.024324</td>\n",
       "      <td>0.018900</td>\n",
       "    </tr>\n",
       "    <tr>\n",
       "      <th>4</th>\n",
       "      <td>0.228682</td>\n",
       "      <td>0.218182</td>\n",
       "      <td>0.189182</td>\n",
       "      <td>0.218182</td>\n",
       "      <td>0.139182</td>\n",
       "      <td>0.160682</td>\n",
       "      <td>0.201331</td>\n",
       "      <td>0.146831</td>\n",
       "      <td>0.099831</td>\n",
       "      <td>0.171831</td>\n",
       "      <td>0.105831</td>\n",
       "      <td>0.112331</td>\n",
       "    </tr>\n",
       "    <tr>\n",
       "      <th>5</th>\n",
       "      <td>0.117013</td>\n",
       "      <td>0.006013</td>\n",
       "      <td>0.083013</td>\n",
       "      <td>0.119013</td>\n",
       "      <td>0.040013</td>\n",
       "      <td>-0.013987</td>\n",
       "      <td>0.047000</td>\n",
       "      <td>0.021000</td>\n",
       "      <td>0.054000</td>\n",
       "      <td>0.029000</td>\n",
       "      <td>0.044000</td>\n",
       "      <td>0.015000</td>\n",
       "    </tr>\n",
       "    <tr>\n",
       "      <th>7</th>\n",
       "      <td>0.054888</td>\n",
       "      <td>-0.002112</td>\n",
       "      <td>0.041888</td>\n",
       "      <td>0.101888</td>\n",
       "      <td>0.067888</td>\n",
       "      <td>0.002888</td>\n",
       "      <td>0.052000</td>\n",
       "      <td>0.021000</td>\n",
       "      <td>0.031000</td>\n",
       "      <td>0.053000</td>\n",
       "      <td>0.035000</td>\n",
       "      <td>0.043000</td>\n",
       "    </tr>\n",
       "    <tr>\n",
       "      <th>6</th>\n",
       "      <td>0.058410</td>\n",
       "      <td>0.001410</td>\n",
       "      <td>0.046410</td>\n",
       "      <td>0.027410</td>\n",
       "      <td>0.010410</td>\n",
       "      <td>-0.010590</td>\n",
       "      <td>0.074000</td>\n",
       "      <td>0.017000</td>\n",
       "      <td>0.050000</td>\n",
       "      <td>0.069000</td>\n",
       "      <td>0.075000</td>\n",
       "      <td>0.003000</td>\n",
       "    </tr>\n",
       "    <tr>\n",
       "      <th>all</th>\n",
       "      <td>0.205929</td>\n",
       "      <td>0.160069</td>\n",
       "      <td>0.112235</td>\n",
       "      <td>0.093369</td>\n",
       "      <td>0.052031</td>\n",
       "      <td>0.020694</td>\n",
       "      <td>0.008879</td>\n",
       "      <td>0.008724</td>\n",
       "      <td>0.005966</td>\n",
       "      <td>0.007035</td>\n",
       "      <td>0.005089</td>\n",
       "      <td>0.004705</td>\n",
       "    </tr>\n",
       "  </tbody>\n",
       "</table>\n",
       "</div>"
      ],
      "text/plain": [
       "             16_train (PN)  16_train (GNN-MAML)  16_train (GNN-MT)  \\\n",
       "EC_category                                                          \n",
       "3                 0.196353             0.106003           0.128753   \n",
       "2                 0.216894             0.177998           0.113422   \n",
       "1                 0.086344             0.045629           0.045487   \n",
       "4                 0.228682             0.218182           0.189182   \n",
       "5                 0.117013             0.006013           0.083013   \n",
       "7                 0.054888            -0.002112           0.041888   \n",
       "6                 0.058410             0.001410           0.046410   \n",
       "all               0.205929             0.160069           0.112235   \n",
       "\n",
       "             16_train (RF)  16_train (MAT)  16_train (GNN-ST)  \\\n",
       "EC_category                                                     \n",
       "3                 0.157903        0.095203           0.061853   \n",
       "2                 0.081974        0.043446           0.012974   \n",
       "1                 0.081344        0.062487           0.012915   \n",
       "4                 0.218182        0.139182           0.160682   \n",
       "5                 0.119013        0.040013          -0.013987   \n",
       "7                 0.101888        0.067888           0.002888   \n",
       "6                 0.027410        0.010410          -0.010590   \n",
       "all               0.093369        0.052031           0.020694   \n",
       "\n",
       "             16_train (PN) std  16_train (GNN-MAML) std  \\\n",
       "EC_category                                               \n",
       "3                     0.030614                 0.023623   \n",
       "2                     0.009112                 0.009208   \n",
       "1                     0.029424                 0.023162   \n",
       "4                     0.201331                 0.146831   \n",
       "5                     0.047000                 0.021000   \n",
       "7                     0.052000                 0.021000   \n",
       "6                     0.074000                 0.017000   \n",
       "all                   0.008879                 0.008724   \n",
       "\n",
       "             16_train (GNN-MT) std  16_train (RF) std  16_train (MAT) std  \\\n",
       "EC_category                                                                 \n",
       "3                         0.024603           0.027580            0.019478   \n",
       "2                         0.005990           0.006649            0.004940   \n",
       "1                         0.012850           0.031665            0.024324   \n",
       "4                         0.099831           0.171831            0.105831   \n",
       "5                         0.054000           0.029000            0.044000   \n",
       "7                         0.031000           0.053000            0.035000   \n",
       "6                         0.050000           0.069000            0.075000   \n",
       "all                       0.005966           0.007035            0.005089   \n",
       "\n",
       "             16_train (GNN-ST) std  \n",
       "EC_category                         \n",
       "3                         0.018902  \n",
       "2                         0.004270  \n",
       "1                         0.018900  \n",
       "4                         0.112331  \n",
       "5                         0.015000  \n",
       "7                         0.043000  \n",
       "6                         0.003000  \n",
       "all                       0.004705  "
      ]
     },
     "execution_count": 8,
     "metadata": {},
     "output_type": "execute_result"
    }
   ],
   "source": [
    "# show results of Table 2 for support set size 16\n",
    "cols = [x for x  in aggregate_df.columns if x.startswith(\"16\")]\n",
    "aggregate_df[cols]"
   ]
  },
  {
   "cell_type": "code",
   "execution_count": 8,
   "id": "025ee4ca",
   "metadata": {},
   "outputs": [
    {
     "ename": "NameError",
     "evalue": "name 'aggregate_df' is not defined",
     "output_type": "error",
     "traceback": [
      "\u001b[0;31m---------------------------------------------------------------------------\u001b[0m",
      "\u001b[0;31mNameError\u001b[0m                                 Traceback (most recent call last)",
      "Cell \u001b[0;32mIn[8], line 2\u001b[0m\n\u001b[1;32m      1\u001b[0m \u001b[38;5;66;03m# this function has the option to plot all classes separately.\u001b[39;00m\n\u001b[0;32m----> 2\u001b[0m plot_by_size(\u001b[43maggregate_df\u001b[49m, model_summaries, plot_output_dir \u001b[38;5;241m=\u001b[39m plot_output_dir)\n",
      "\u001b[0;31mNameError\u001b[0m: name 'aggregate_df' is not defined"
     ]
    }
   ],
   "source": [
    "# this function has the option to plot all classes separately.\n",
    "plot_by_size(aggregate_df, model_summaries, plot_output_dir = plot_output_dir)"
   ]
  },
  {
   "cell_type": "markdown",
   "id": "4fac30dd",
   "metadata": {},
   "source": [
    "# Ranking\n",
    "\n",
    "Here we use [autorank](https://pypi.org/project/autorank/) for an appropriate comparison between all methods when evaluated on multiple tasks.\n"
   ]
  },
  {
   "cell_type": "code",
   "execution_count": 10,
   "id": "5a2cd887",
   "metadata": {},
   "outputs": [],
   "source": [
    "from autorank import autorank\n",
    "\n",
    "# select correct data to rank with autorank\n",
    "for size in [16]:\n",
    "\n",
    "    df = data[[x for x in list(data.columns) if x.startswith(f\"{size}\") and \"val\" in x and \"delta-auprc\" in x]]"
   ]
  },
  {
   "cell_type": "code",
   "execution_count": 11,
   "id": "f2711e7c",
   "metadata": {},
   "outputs": [
    {
     "data": {
      "text/plain": [
       "16_train (PN) val delta-auprc          1.560510\n",
       "16_train (GNN-MAML) val delta-auprc    2.748408\n",
       "16_train (GNN-MT) val delta-auprc      3.168790\n",
       "16_train (RF) val delta-auprc          3.554140\n",
       "16_train (MAT) val delta-auprc         4.745223\n",
       "16_train (GNN-ST) val delta-auprc      5.222930\n",
       "Name: meanrank, dtype: float64"
      ]
     },
     "execution_count": 11,
     "metadata": {},
     "output_type": "execute_result"
    }
   ],
   "source": [
    "result = autorank(df, verbose=False)\n",
    "result.rankdf[\"meanrank\"]"
   ]
  },
  {
   "cell_type": "code",
   "execution_count": null,
   "id": "15965550",
   "metadata": {},
   "outputs": [],
   "source": []
  }
 ],
 "metadata": {
  "kernelspec": {
   "display_name": "base",
   "language": "python",
   "name": "python3"
  },
  "language_info": {
   "codemirror_mode": {
    "name": "ipython",
    "version": 3
   },
   "file_extension": ".py",
   "mimetype": "text/x-python",
   "name": "python",
   "nbconvert_exporter": "python",
   "pygments_lexer": "ipython3",
   "version": "3.9.18"
  }
 },
 "nbformat": 4,
 "nbformat_minor": 5
}
